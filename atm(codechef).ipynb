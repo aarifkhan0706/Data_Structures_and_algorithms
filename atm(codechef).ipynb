{
 "cells": [
  {
   "cell_type": "code",
   "execution_count": 24,
   "metadata": {},
   "outputs": [
    {
     "name": "stdout",
     "output_type": "stream",
     "text": [
      "80 120\n",
      "39.5\n"
     ]
    }
   ],
   "source": [
    "try:\n",
    "    # TODO: write code...\n",
    "    def atm(x,y):\n",
    "        if x>y-0.5 or x%5!=0:\n",
    "            return y\n",
    "        else:\n",
    "            new_amount=y-(x + 0.5)\n",
    "            return new_amount\n",
    "    x,y=input().split()\n",
    "    x=int(x)\n",
    "    y=float(y)\n",
    "    k=atm(x,y)\n",
    "    print(k)\n",
    "except :\n",
    "    pass"
   ]
  },
  {
   "cell_type": "code",
   "execution_count": null,
   "metadata": {},
   "outputs": [],
   "source": []
  }
 ],
 "metadata": {
  "kernelspec": {
   "display_name": "Python 3",
   "language": "python",
   "name": "python3"
  },
  "language_info": {
   "codemirror_mode": {
    "name": "ipython",
    "version": 3
   },
   "file_extension": ".py",
   "mimetype": "text/x-python",
   "name": "python",
   "nbconvert_exporter": "python",
   "pygments_lexer": "ipython3",
   "version": "3.5.6"
  }
 },
 "nbformat": 4,
 "nbformat_minor": 2
}
