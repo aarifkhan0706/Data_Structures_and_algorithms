{
 "cells": [
  {
   "cell_type": "code",
   "execution_count": 13,
   "metadata": {},
   "outputs": [],
   "source": [
    "def sorts(arr):\n",
    "    i=0\n",
    "    j=1\n",
    "    count=arr[o]\n",
    "    for i in range:\n",
    "        for j in arr:\n",
    "            if arr[i]<=arr[j]:\n",
    "                arr[i],arr[j]=arr[i],arr[j]\n",
    "            else:\n",
    "                arr[i],arr[j]=arr[j],arr[i]\n",
    "            j+=1\n",
    "        i+=1\n",
    "    return arr\n",
    "            \n",
    "    \n",
    "        \n",
    "                \n",
    "            "
   ]
  },
  {
   "cell_type": "code",
   "execution_count": 12,
   "metadata": {},
   "outputs": [
    {
     "name": "stdout",
     "output_type": "stream",
     "text": [
      "[1, 1, 1, 0, 2, 0, 2, 0]\n"
     ]
    }
   ],
   "source": [
    "arr=[1,1,1,0,2,0,2,0]\n",
    "print(sorts(arr))"
   ]
  },
  {
   "cell_type": "code",
   "execution_count": null,
   "metadata": {},
   "outputs": [],
   "source": [
    "x=1\n",
    "    while x<len(arr):\n",
    "        \n",
    "        if arr[x]<=arr[x-1]:\n",
    "            arr[x],arr[x-1]=arr[x-1],arr[x]\n",
    "        else:\n",
    "            arr[x],arr[x-1]=arr[x],arr[x-1]\n",
    "        x+=1\n",
    "        \n",
    "    return arr"
   ]
  }
 ],
 "metadata": {
  "kernelspec": {
   "display_name": "Python 3",
   "language": "python",
   "name": "python3"
  },
  "language_info": {
   "codemirror_mode": {
    "name": "ipython",
    "version": 3
   },
   "file_extension": ".py",
   "mimetype": "text/x-python",
   "name": "python",
   "nbconvert_exporter": "python",
   "pygments_lexer": "ipython3",
   "version": "3.5.6"
  }
 },
 "nbformat": 4,
 "nbformat_minor": 2
}
