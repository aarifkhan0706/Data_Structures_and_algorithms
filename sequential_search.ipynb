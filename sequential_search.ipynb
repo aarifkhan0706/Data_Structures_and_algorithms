{
 "cells": [
  {
   "cell_type": "code",
   "execution_count": 27,
   "metadata": {},
   "outputs": [],
   "source": [
    "def sequential_search(arr,k):\n",
    "    '''\n",
    "    it is for unordered list\n",
    "    '''\n",
    "    found = False\n",
    "    pos = 0\n",
    "    while pos < len(arr) and not found:\n",
    "        if arr[pos]==k:\n",
    "            found= True\n",
    "        else:\n",
    "            pos+=1\n",
    "    print(\"No of loops:  \",pos)    \n",
    "    return(found)    \n",
    "        "
   ]
  },
  {
   "cell_type": "code",
   "execution_count": 28,
   "metadata": {},
   "outputs": [],
   "source": [
    "arr=[22,55,66,77,99]\n",
    "k=65"
   ]
  },
  {
   "cell_type": "code",
   "execution_count": 32,
   "metadata": {},
   "outputs": [
    {
     "name": "stdout",
     "output_type": "stream",
     "text": [
      "No of loops:   5\n",
      "22.3 ns ± 7.37 ns per loop (mean ± std. dev. of 7 runs, 10000000 loops each)\n"
     ]
    }
   ],
   "source": [
    "sequential_search(arr,k)\n",
    "%timeit(sequential_search)"
   ]
  },
  {
   "cell_type": "code",
   "execution_count": 30,
   "metadata": {},
   "outputs": [],
   "source": [
    "def order_seq_search(arr,k):\n",
    "    '''\n",
    "    it is for ordered list\n",
    "    '''\n",
    "    found = False\n",
    "    pos = 0\n",
    "    crossed = False\n",
    "    while pos < len(arr) and not found and not crossed:\n",
    "        if arr[pos]==k:\n",
    "            found=True\n",
    "        else:\n",
    "            if arr[pos]>k:\n",
    "                crossed=True\n",
    "            else:\n",
    "                pos+=1\n",
    "    print(\"no of loops: \",pos)\n",
    "    return (found)"
   ]
  },
  {
   "cell_type": "code",
   "execution_count": 33,
   "metadata": {},
   "outputs": [
    {
     "name": "stdout",
     "output_type": "stream",
     "text": [
      "no of loops:  2\n",
      "20.9 ns ± 4.42 ns per loop (mean ± std. dev. of 7 runs, 10000000 loops each)\n"
     ]
    }
   ],
   "source": [
    "arr=[22,55,66,77,99]\n",
    "k=65\n",
    "order_seq_search(arr,k)\n",
    "%timeit(order_seq_search)"
   ]
  },
  {
   "cell_type": "code",
   "execution_count": null,
   "metadata": {},
   "outputs": [],
   "source": []
  }
 ],
 "metadata": {
  "kernelspec": {
   "display_name": "Python 3",
   "language": "python",
   "name": "python3"
  },
  "language_info": {
   "codemirror_mode": {
    "name": "ipython",
    "version": 3
   },
   "file_extension": ".py",
   "mimetype": "text/x-python",
   "name": "python",
   "nbconvert_exporter": "python",
   "pygments_lexer": "ipython3",
   "version": "3.5.6"
  }
 },
 "nbformat": 4,
 "nbformat_minor": 2
}
