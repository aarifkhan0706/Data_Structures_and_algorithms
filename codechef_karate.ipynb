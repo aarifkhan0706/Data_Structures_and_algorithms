{
 "cells": [
  {
   "cell_type": "code",
   "execution_count": 1,
   "metadata": {},
   "outputs": [
    {
     "name": "stdout",
     "output_type": "stream",
     "text": [
      "2\n",
      "2 6 1 1\n",
      "4\n",
      "6 2 2 2\n",
      "1\n"
     ]
    }
   ],
   "source": [
    "T = int(input())\n",
    "if T>=1 and T<=64:\n",
    "    for i in range(T):\n",
    "        S,W1,W2,W3=[int(S)for S in input().strip().split()]\n",
    "        if S>=1 and S<=8 and W1>=1 and W1<=2 and W2>=1 and W2<=2and W3>=1 and W3<=2:\n",
    "            sums=W1+W2+W3\n",
    "            if S >= sums:\n",
    "                print(\"1\")\n",
    "                continue\n",
    "            rem=int(sums%S)\n",
    "            div=int(sums//S)\n",
    "            if rem<S and rem!=0:\n",
    "                l=div+1\n",
    "                print(l)\n",
    "            else:\n",
    "                print(div)\n",
    "        else:\n",
    "            pass\n",
    "else: \n",
    "    pass\n",
    "    \n",
    "            "
   ]
  },
  {
   "cell_type": "code",
   "execution_count": 2,
   "metadata": {},
   "outputs": [
    {
     "data": {
      "text/plain": [
       "2.5"
      ]
     },
     "execution_count": 2,
     "metadata": {},
     "output_type": "execute_result"
    }
   ],
   "source": [
    "5/2\n"
   ]
  },
  {
   "cell_type": "code",
   "execution_count": 3,
   "metadata": {},
   "outputs": [
    {
     "data": {
      "text/plain": [
       "2"
      ]
     },
     "execution_count": 3,
     "metadata": {},
     "output_type": "execute_result"
    }
   ],
   "source": [
    "int(8//3)"
   ]
  },
  {
   "cell_type": "code",
   "execution_count": 4,
   "metadata": {},
   "outputs": [
    {
     "data": {
      "text/plain": [
       "0"
      ]
     },
     "execution_count": 4,
     "metadata": {},
     "output_type": "execute_result"
    }
   ],
   "source": [
    "8%2\n"
   ]
  },
  {
   "cell_type": "code",
   "execution_count": null,
   "metadata": {},
   "outputs": [],
   "source": []
  }
 ],
 "metadata": {
  "kernelspec": {
   "display_name": "Python 3",
   "language": "python",
   "name": "python3"
  },
  "language_info": {
   "codemirror_mode": {
    "name": "ipython",
    "version": 3
   },
   "file_extension": ".py",
   "mimetype": "text/x-python",
   "name": "python",
   "nbconvert_exporter": "python",
   "pygments_lexer": "ipython3",
   "version": "3.5.6"
  }
 },
 "nbformat": 4,
 "nbformat_minor": 2
}
