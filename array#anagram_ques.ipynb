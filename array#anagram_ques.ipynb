{
 "cells": [
  {
   "cell_type": "markdown",
   "metadata": {},
   "source": [
    "# Anagram check, \n",
    "given two integers check to see if they are anagrams\n",
    "#What is anagram ?\n",
    "An anagram is when the two strings can be written using the exact same letters \n",
    "for example: dog and god\n"
   ]
  },
  {
   "cell_type": "code",
   "execution_count": 16,
   "metadata": {
    "scrolled": false
   },
   "outputs": [
    {
     "name": "stdout",
     "output_type": "stream",
     "text": [
      "Its an Anagram\n"
     ]
    }
   ],
   "source": [
    "#these are not a good solution for interview rounds as they are more interested in your logical approach rather than python tricks\n",
    "def anagram(text1,text2):\n",
    "    text1=text1.replace(' ','').lower()\n",
    "    text2=text2.replace(' ','').lower()\n",
    "    if sorted(text1)==sorted(text2):\n",
    "        print(\"Its an Anagram\")\n",
    "    else:\n",
    "        print(\"Not an Anagram\")\n",
    "text1=\"clint eastwood\"\n",
    "text2=\"old west action\"\n",
    "anagram(text1,text2)\n",
    "    "
   ]
  },
  {
   "cell_type": "markdown",
   "metadata": {},
   "source": [
    "# Another_method preffered soln for interview"
   ]
  },
  {
   "cell_type": "code",
   "execution_count": 23,
   "metadata": {},
   "outputs": [
    {
     "data": {
      "text/plain": [
       "'Not Anagram'"
      ]
     },
     "execution_count": 23,
     "metadata": {},
     "output_type": "execute_result"
    }
   ],
   "source": [
    "def anagram(text1,text2):\n",
    "    text1=text1.replace(\" \",\"\").lower()\n",
    "    text2=text2.replace(\" \",\"\").lower()\n",
    "    #Edge case check\n",
    "    if len(text1)!=len(text2):\n",
    "        return(\"not anagram\")\n",
    "        \n",
    "    count={}\n",
    "    \n",
    "    for i in text1:\n",
    "        if i in count:\n",
    "            count[i]+=1\n",
    "        else:\n",
    "            count[i]=1\n",
    "    \n",
    "    for i in text2:\n",
    "        if i in count:\n",
    "            count[i]-=1\n",
    "        else:\n",
    "            count[i]=1\n",
    "    \n",
    "    for k in count:\n",
    "        if count[k]!=0:\n",
    "            return(\"Not Anagram\")\n",
    "    return(\"Anagram\")\n",
    "text1=\"clint eastwood\"\n",
    "text2=\"old west action\"\n",
    "anagram(text1,text2)"
   ]
  },
  {
   "cell_type": "code",
   "execution_count": null,
   "metadata": {},
   "outputs": [],
   "source": []
  }
 ],
 "metadata": {
  "kernelspec": {
   "display_name": "Python 3",
   "language": "python",
   "name": "python3"
  },
  "language_info": {
   "codemirror_mode": {
    "name": "ipython",
    "version": 3
   },
   "file_extension": ".py",
   "mimetype": "text/x-python",
   "name": "python",
   "nbconvert_exporter": "python",
   "pygments_lexer": "ipython3",
   "version": "3.5.6"
  }
 },
 "nbformat": 4,
 "nbformat_minor": 2
}
