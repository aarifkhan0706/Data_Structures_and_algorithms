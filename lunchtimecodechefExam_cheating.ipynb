{
 "cells": [
  {
   "cell_type": "code",
   "execution_count": 4,
   "metadata": {},
   "outputs": [],
   "source": [
    "def exam_time(a,b):\n",
    "    count=1\n",
    "    if a%2==0 and b%2==0:\n",
    "        count+=1\n",
    "    diff=max(a,b)-min(a,b)\n",
    "    if diff%min(a,b)==0:\n",
    "        count+=1\n",
    "    if max(a,b)%min(a,b)==0:\n",
    "        count+=1\n",
    "    print(count)\n",
    "\n",
    "        \n",
    "        "
   ]
  },
  {
   "cell_type": "code",
   "execution_count": 5,
   "metadata": {},
   "outputs": [
    {
     "name": "stdout",
     "output_type": "stream",
     "text": [
      "4\n"
     ]
    }
   ],
   "source": [
    "exam_time(8,16)"
   ]
  },
  {
   "cell_type": "code",
   "execution_count": 1,
   "metadata": {},
   "outputs": [
    {
     "name": "stdout",
     "output_type": "stream",
     "text": [
      "1\n",
      "2 6\n",
      "3\n"
     ]
    }
   ],
   "source": [
    "# cook your dish here\n",
    "T = int(input())\n",
    "result = []\n",
    "\n",
    "def number(factor):\n",
    "    count = 0\n",
    "    if(int(factor**0.5)==(factor**0.5)):\n",
    "        count-=1\n",
    "    for i in range(1,int(factor**0.5)+1):\n",
    "        if(factor%i==0):\n",
    "            count+=2\n",
    "    return count\n",
    "\n",
    "for i in range(T):\n",
    "    data = (input()).split()\n",
    "    count = 0\n",
    "    factor = abs(int(data[0])-int(data[1]))\n",
    "    result.append(number(factor))\n",
    "\n",
    "for i in result:\n",
    "    print(i)"
   ]
  },
  {
   "cell_type": "code",
   "execution_count": 2,
   "metadata": {},
   "outputs": [
    {
     "data": {
      "text/plain": [
       "2.0"
      ]
     },
     "execution_count": 2,
     "metadata": {},
     "output_type": "execute_result"
    }
   ],
   "source": [
    "4**0.5"
   ]
  },
  {
   "cell_type": "code",
   "execution_count": null,
   "metadata": {},
   "outputs": [],
   "source": []
  }
 ],
 "metadata": {
  "kernelspec": {
   "display_name": "Python 3",
   "language": "python",
   "name": "python3"
  },
  "language_info": {
   "codemirror_mode": {
    "name": "ipython",
    "version": 3
   },
   "file_extension": ".py",
   "mimetype": "text/x-python",
   "name": "python",
   "nbconvert_exporter": "python",
   "pygments_lexer": "ipython3",
   "version": "3.5.6"
  }
 },
 "nbformat": 4,
 "nbformat_minor": 2
}
