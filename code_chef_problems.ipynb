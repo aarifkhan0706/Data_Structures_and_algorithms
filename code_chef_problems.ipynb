{
 "cells": [
  {
   "cell_type": "code",
   "execution_count": 11,
   "metadata": {},
   "outputs": [
    {
     "name": "stdout",
     "output_type": "stream",
     "text": [
      "1\n",
      "5 3\n",
      "5 4 8 6 9\n",
      "2 3 5\n",
      "5\n",
      "8\n",
      "9\n"
     ]
    }
   ],
   "source": [
    "t=int(input())# no of test cases\n",
    "for i in range (t):\n",
    "    n,q=[int(n)for n in input().strip().split()]\n",
    "    score=[]\n",
    "    question=[]\n",
    "    answer=[]\n",
    "    #for i in range (n):#no of times he played game \n",
    "    #    score.append(int(input()))#scores he achieved\n",
    "    score=[int(score)for score in input().strip().split()]\n",
    "    #for i in range (q):#no of questions\n",
    "    #    question.append(int(input()))#thoughts he had for different times he played \n",
    "    question=[int(question)for question in input().strip().split()]\n",
    "    for thoughts in question:#checking thoughts with question\n",
    "        answer.append(max(score[0:thoughts]))#retunr the max value till that game\n",
    "    for i in answer:\n",
    "        print(i,end=\"\\n\")\n",
    "    "
   ]
  },
  {
   "cell_type": "code",
   "execution_count": 13,
   "metadata": {},
   "outputs": [
    {
     "name": "stdout",
     "output_type": "stream",
     "text": [
      "1\n",
      "5 3\n",
      "5 4 8 6 9\n",
      "2 3 5\n",
      "5\n",
      "8\n",
      "9\n"
     ]
    }
   ],
   "source": [
    "try:\n",
    "    # TODO: write code...\n",
    "    t=int(input())# no of test cases\n",
    "    for i in range (t):\n",
    "        n,q=[int(n)for n in input().strip().split()]\n",
    "        score=[]\n",
    "        question=[]\n",
    "        answer=[]\n",
    "        score=[int(score)for score in input().strip().split()]\n",
    "        question=[int(question)for question in input().strip().split()]\n",
    "        for thoughts in question:#checking thoughts with question\n",
    "            answer.append(max(score[0:thoughts]))#retunr the max value till that game\n",
    "        for i in answer:\n",
    "            print(i,end=\"\\n\")\n",
    "except :\n",
    "    pass"
   ]
  },
  {
   "cell_type": "code",
   "execution_count": null,
   "metadata": {},
   "outputs": [],
   "source": []
  }
 ],
 "metadata": {
  "kernelspec": {
   "display_name": "Python 3",
   "language": "python",
   "name": "python3"
  },
  "language_info": {
   "codemirror_mode": {
    "name": "ipython",
    "version": 3
   },
   "file_extension": ".py",
   "mimetype": "text/x-python",
   "name": "python",
   "nbconvert_exporter": "python",
   "pygments_lexer": "ipython3",
   "version": "3.5.6"
  }
 },
 "nbformat": 4,
 "nbformat_minor": 2
}
