{
 "cells": [
  {
   "cell_type": "code",
   "execution_count": 9,
   "metadata": {},
   "outputs": [
    {
     "name": "stdout",
     "output_type": "stream",
     "text": [
      "1 \n",
      "5 10\n",
      "2 4 1 35 1\n",
      "1\n"
     ]
    }
   ],
   "source": [
    "t= int(input())\n",
    "for i in range (t):\n",
    "    n,k=[int(n)for n in input().strip().split()]\n",
    "    old=[int(old)for old in input().strip().split()]\n",
    "    new=[]\n",
    "    for dna in old:\n",
    "        new.append(dna+k)\n",
    "    count=0\n",
    "    for i in new:\n",
    "        if i%7==0:\n",
    "            count+=1\n",
    "    print(count)"
   ]
  },
  {
   "cell_type": "code",
   "execution_count": null,
   "metadata": {},
   "outputs": [],
   "source": []
  }
 ],
 "metadata": {
  "kernelspec": {
   "display_name": "Python 3",
   "language": "python",
   "name": "python3"
  },
  "language_info": {
   "codemirror_mode": {
    "name": "ipython",
    "version": 3
   },
   "file_extension": ".py",
   "mimetype": "text/x-python",
   "name": "python",
   "nbconvert_exporter": "python",
   "pygments_lexer": "ipython3",
   "version": "3.5.6"
  }
 },
 "nbformat": 4,
 "nbformat_minor": 2
}
