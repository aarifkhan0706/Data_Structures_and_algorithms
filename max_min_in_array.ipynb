{
 "cells": [
  {
   "cell_type": "markdown",
   "metadata": {},
   "source": [
    "Find the minimum and maximum element in an array\n"
   ]
  },
  {
   "cell_type": "code",
   "execution_count": null,
   "metadata": {},
   "outputs": [],
   "source": [
    "def max_min(arr):\n",
    "    return max(arr),min(arr)\n",
    "arr=[1,2,3]\n",
    "print(max_min(arr))"
   ]
  },
  {
   "cell_type": "code",
   "execution_count": 15,
   "metadata": {},
   "outputs": [],
   "source": [
    "def maximum(arr):\n",
    "    x=1\n",
    "    while x<len(arr):\n",
    "        if arr[x]>arr[x-1]:\n",
    "            arr[x],arr[x-1]=arr[x],arr[x-1]\n",
    "        else:\n",
    "            arr[x],arr[x-1]=arr[x-1],arr[x]\n",
    "        x+=1\n",
    "        \n",
    "    return arr[len(arr)-1]\n",
    "            \n",
    "\n"
   ]
  },
  {
   "cell_type": "code",
   "execution_count": 16,
   "metadata": {},
   "outputs": [
    {
     "name": "stdout",
     "output_type": "stream",
     "text": [
      "9\n"
     ]
    }
   ],
   "source": [
    "arr=[2,4,6,3,3,6,6,4,9]\n",
    "print(maximum(arr))"
   ]
  },
  {
   "cell_type": "code",
   "execution_count": 17,
   "metadata": {},
   "outputs": [],
   "source": [
    "def minimum(arr):\n",
    "    x=1\n",
    "    while x<len(arr):\n",
    "        if arr[x]>arr[x-1]:\n",
    "            arr[x],arr[x-1]=arr[x],arr[x-1]\n",
    "        else:\n",
    "            arr[x],arr[x-1]=arr[x-1],arr[x]\n",
    "        x+=1\n",
    "        \n",
    "    return arr[0]"
   ]
  },
  {
   "cell_type": "code",
   "execution_count": 18,
   "metadata": {},
   "outputs": [
    {
     "name": "stdout",
     "output_type": "stream",
     "text": [
      "2\n"
     ]
    }
   ],
   "source": [
    "arr=[2,4,6,3,3,6,6,4,9]\n",
    "print(minimum(arr))"
   ]
  },
  {
   "cell_type": "code",
   "execution_count": 19,
   "metadata": {},
   "outputs": [
    {
     "name": "stdout",
     "output_type": "stream",
     "text": [
      "(3, 1)\n"
     ]
    }
   ],
   "source": [
    "def max_min(arr):\n",
    "    return maximum(arr),minimum(arr)\n",
    "arr=[1,2,3]\n",
    "print(max_min(arr))"
   ]
  },
  {
   "cell_type": "code",
   "execution_count": null,
   "metadata": {},
   "outputs": [],
   "source": []
  }
 ],
 "metadata": {
  "kernelspec": {
   "display_name": "Python 3",
   "language": "python",
   "name": "python3"
  },
  "language_info": {
   "codemirror_mode": {
    "name": "ipython",
    "version": 3
   },
   "file_extension": ".py",
   "mimetype": "text/x-python",
   "name": "python",
   "nbconvert_exporter": "python",
   "pygments_lexer": "ipython3",
   "version": "3.5.6"
  }
 },
 "nbformat": 4,
 "nbformat_minor": 2
}
