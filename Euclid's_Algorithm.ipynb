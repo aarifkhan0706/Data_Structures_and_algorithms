{
 "cells": [
  {
   "cell_type": "markdown",
   "metadata": {},
   "source": [
    "# EUCLID'S ALGORITHM"
   ]
  },
  {
   "cell_type": "markdown",
   "metadata": {},
   "source": [
    "Greatest common divisor is the greatest common number whch divides both the number.<br>\n",
    "General way is taking out the factors of each number and then selecting common numbers followed by picking out the maximum number.<br>\n",
    "gcd(a,b)<br>\n",
    "Then came euclid's way:<br>\n",
    "-documented by euclid~300 bc<br>\n",
    "-fastest way of computing the gcd of two numbers<br>\n",
    "-In this method the bigger among both the number becomes dividend and the smaller number becomes divisor<br>\n",
    "-for each loop the remainder then becomes the divisor and the dividend becomes which was then the divisor<br>\n",
    "-the process continues till the remainder comes out to be zero and the gcd be the divisor of that loop<br>\n",
    "\n"
   ]
  },
  {
   "cell_type": "code",
   "execution_count": 13,
   "metadata": {},
   "outputs": [],
   "source": [
    "def gcds(a,b):#taking two values \n",
    "    divisor=min(a,b)#updating divisor with the minimum value\n",
    "    dividend=max(a,b)#updating dividend with the maximum value\n",
    "    if divisor==0:#as gcd of zero and a non zero number is unidentified \n",
    "        print(\"Wrong input,dont put 0 as it is unidentified\")\n",
    "    else:\n",
    "        while divisor!=0:#as euclid algorithm says\n",
    "            remainder=dividend%divisor#updatin remainder\n",
    "            dividend=divisor#updating dividend with the previous devisor\n",
    "            divisor=remainder#updating divivsor with the previous remainder\n",
    "        print(dividend)\n",
    "        \n",
    "        \n",
    "        \n",
    "        "
   ]
  },
  {
   "cell_type": "code",
   "execution_count": 2,
   "metadata": {},
   "outputs": [
    {
     "data": {
      "text/plain": [
       "2"
      ]
     },
     "execution_count": 2,
     "metadata": {},
     "output_type": "execute_result"
    }
   ],
   "source": [
    "5//2"
   ]
  },
  {
   "cell_type": "code",
   "execution_count": 3,
   "metadata": {},
   "outputs": [
    {
     "data": {
      "text/plain": [
       "1"
      ]
     },
     "execution_count": 3,
     "metadata": {},
     "output_type": "execute_result"
    }
   ],
   "source": [
    "5%2"
   ]
  },
  {
   "cell_type": "code",
   "execution_count": 4,
   "metadata": {},
   "outputs": [
    {
     "data": {
      "text/plain": [
       "0"
      ]
     },
     "execution_count": 4,
     "metadata": {},
     "output_type": "execute_result"
    }
   ],
   "source": [
    "2//5"
   ]
  },
  {
   "cell_type": "code",
   "execution_count": 7,
   "metadata": {},
   "outputs": [
    {
     "name": "stdout",
     "output_type": "stream",
     "text": [
      "35\n"
     ]
    }
   ],
   "source": [
    "gcds(105,350)"
   ]
  },
  {
   "cell_type": "code",
   "execution_count": 10,
   "metadata": {},
   "outputs": [
    {
     "name": "stdout",
     "output_type": "stream",
     "text": [
      "Wrong input\n"
     ]
    }
   ],
   "source": [
    "gcds(0,350)"
   ]
  },
  {
   "cell_type": "code",
   "execution_count": 11,
   "metadata": {},
   "outputs": [
    {
     "name": "stdout",
     "output_type": "stream",
     "text": [
      "11\n"
     ]
    }
   ],
   "source": [
    "gcds(55,11)"
   ]
  },
  {
   "cell_type": "code",
   "execution_count": 14,
   "metadata": {},
   "outputs": [
    {
     "name": "stdout",
     "output_type": "stream",
     "text": [
      "Wrong input,dont put 0 as it is unidentified\n"
     ]
    }
   ],
   "source": [
    "gcds(0,11)"
   ]
  },
  {
   "cell_type": "code",
   "execution_count": null,
   "metadata": {},
   "outputs": [],
   "source": []
  }
 ],
 "metadata": {
  "kernelspec": {
   "display_name": "Python 3",
   "language": "python",
   "name": "python3"
  },
  "language_info": {
   "codemirror_mode": {
    "name": "ipython",
    "version": 3
   },
   "file_extension": ".py",
   "mimetype": "text/x-python",
   "name": "python",
   "nbconvert_exporter": "python",
   "pygments_lexer": "ipython3",
   "version": "3.5.6"
  }
 },
 "nbformat": 4,
 "nbformat_minor": 2
}
