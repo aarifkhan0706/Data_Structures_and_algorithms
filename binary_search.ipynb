{
 "cells": [
  {
   "cell_type": "markdown",
   "metadata": {},
   "source": [
    "# ITERATIVE BINARY SEARCH"
   ]
  },
  {
   "cell_type": "code",
   "execution_count": 21,
   "metadata": {},
   "outputs": [],
   "source": [
    "def binary_search(arr,ele):\n",
    "    '''\n",
    "    sorted array is must\n",
    "    (O(logn)\n",
    "    '''\n",
    "    #base class\n",
    "    if len(arr) == 0:\n",
    "        return False\n",
    "    else:\n",
    "        first = 0\n",
    "        last = len(arr)-1\n",
    "        found = False\n",
    "        while first<=last and not found:\n",
    "            mid= (first+last)//2\n",
    "            if arr[mid]==ele:\n",
    "                return True\n",
    "            else:\n",
    "                if arr[mid]>ele:\n",
    "                    last=mid-1\n",
    "                else:\n",
    "                    first=mid+1\n",
    "    return found\n",
    "                    \n",
    "                    \n",
    "                \n",
    "            \n",
    "            "
   ]
  },
  {
   "cell_type": "code",
   "execution_count": 25,
   "metadata": {},
   "outputs": [
    {
     "name": "stdout",
     "output_type": "stream",
     "text": [
      "29.1 ns ± 8.41 ns per loop (mean ± std. dev. of 7 runs, 10000000 loops each)\n"
     ]
    }
   ],
   "source": [
    "arr=[1,2,3,4,5,6,7,8,9,10]\n",
    "ele=11\n",
    "binary_search(arr,ele)\n",
    "%timeit(binary_search)"
   ]
  },
  {
   "cell_type": "markdown",
   "metadata": {},
   "source": [
    "# RECURSIVE BINARY SEARCH"
   ]
  },
  {
   "cell_type": "code",
   "execution_count": 16,
   "metadata": {},
   "outputs": [],
   "source": [
    "def rec_bin_search(arr,ele):\n",
    "    '''\n",
    "    recursion way\n",
    "    (O(logn))\n",
    "    \n",
    "    '''\n",
    "    #base class\n",
    "    if len(arr)==0:\n",
    "        return  (False)\n",
    "    else:\n",
    "        mid = len(arr)//2\n",
    "        if arr[mid]==ele:\n",
    "            return True\n",
    "        else:\n",
    "            if arr[mid]>ele:\n",
    "                return rec_bin_search(arr[:mid],ele)\n",
    "            else:\n",
    "                return rec_bin_search(arr[mid+1:],ele)\n",
    "            "
   ]
  },
  {
   "cell_type": "code",
   "execution_count": 17,
   "metadata": {},
   "outputs": [
    {
     "data": {
      "text/plain": [
       "False"
      ]
     },
     "execution_count": 17,
     "metadata": {},
     "output_type": "execute_result"
    }
   ],
   "source": [
    "arr=[1,2,3,4,5,6,7,8,9,10]\n",
    "ele=11\n",
    "rec_bin_search(arr,ele)"
   ]
  },
  {
   "cell_type": "code",
   "execution_count": 18,
   "metadata": {},
   "outputs": [
    {
     "name": "stdout",
     "output_type": "stream",
     "text": [
      "22.9 ns ± 3.98 ns per loop (mean ± std. dev. of 7 runs, 10000000 loops each)\n"
     ]
    }
   ],
   "source": [
    "%timeit(rec_bin_search)"
   ]
  },
  {
   "cell_type": "code",
   "execution_count": null,
   "metadata": {},
   "outputs": [],
   "source": []
  }
 ],
 "metadata": {
  "kernelspec": {
   "display_name": "Python 3",
   "language": "python",
   "name": "python3"
  },
  "language_info": {
   "codemirror_mode": {
    "name": "ipython",
    "version": 3
   },
   "file_extension": ".py",
   "mimetype": "text/x-python",
   "name": "python",
   "nbconvert_exporter": "python",
   "pygments_lexer": "ipython3",
   "version": "3.5.6"
  }
 },
 "nbformat": 4,
 "nbformat_minor": 2
}
