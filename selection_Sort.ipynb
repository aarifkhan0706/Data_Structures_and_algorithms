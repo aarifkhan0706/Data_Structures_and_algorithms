{
 "cells": [
  {
   "cell_type": "markdown",
   "metadata": {},
   "source": [
    "# SELECTION_SORT"
   ]
  },
  {
   "cell_type": "markdown",
   "metadata": {},
   "source": [
    "what we do in this algorithm is to select the first element and swap it with the element which is the min of that element "
   ]
  },
  {
   "cell_type": "code",
   "execution_count": 38,
   "metadata": {},
   "outputs": [],
   "source": [
    "def selection_sort(arr):\n",
    "    \n",
    "    # For every slot in array\n",
    "    for fillslot in range(len(arr)-1,0,-1):\n",
    "        print(\"firstloop\",fillslot)\n",
    "        positionOfMax=0\n",
    "        print(\"positionofMax\",positionOfMax)\n",
    "        \n",
    "        # For every set of 0 to fillslot+1\n",
    "        for location in range(1,fillslot+1):\n",
    "            print(\"secondloop\",location)\n",
    "            print(\"location\",location)\n",
    "            # Set maximum's location\n",
    "            if arr[location]>arr[positionOfMax]:\n",
    "                positionOfMax = location\n",
    "                print(\"updatedpositionofmax\",positionOfMax)\n",
    "\n",
    "        temp = arr[fillslot]\n",
    "        arr[fillslot] = arr[positionOfMax]\n",
    "        arr[positionOfMax] = temp"
   ]
  },
  {
   "cell_type": "code",
   "execution_count": 40,
   "metadata": {},
   "outputs": [
    {
     "name": "stdout",
     "output_type": "stream",
     "text": [
      "firstloop 8\n",
      "positionofMax 0\n",
      "secondloop 1\n",
      "location 1\n",
      "updatedpositionofmax 1\n",
      "secondloop 2\n",
      "location 2\n",
      "secondloop 3\n",
      "location 3\n",
      "updatedpositionofmax 3\n",
      "secondloop 4\n",
      "location 4\n",
      "secondloop 5\n",
      "location 5\n",
      "updatedpositionofmax 5\n",
      "secondloop 6\n",
      "location 6\n",
      "updatedpositionofmax 6\n",
      "secondloop 7\n",
      "location 7\n",
      "updatedpositionofmax 7\n",
      "secondloop 8\n",
      "location 8\n",
      "firstloop 7\n",
      "positionofMax 0\n",
      "secondloop 1\n",
      "location 1\n",
      "updatedpositionofmax 1\n",
      "secondloop 2\n",
      "location 2\n",
      "secondloop 3\n",
      "location 3\n",
      "updatedpositionofmax 3\n",
      "secondloop 4\n",
      "location 4\n",
      "secondloop 5\n",
      "location 5\n",
      "updatedpositionofmax 5\n",
      "secondloop 6\n",
      "location 6\n",
      "updatedpositionofmax 6\n",
      "secondloop 7\n",
      "location 7\n",
      "updatedpositionofmax 7\n",
      "firstloop 6\n",
      "positionofMax 0\n",
      "secondloop 1\n",
      "location 1\n",
      "updatedpositionofmax 1\n",
      "secondloop 2\n",
      "location 2\n",
      "secondloop 3\n",
      "location 3\n",
      "updatedpositionofmax 3\n",
      "secondloop 4\n",
      "location 4\n",
      "secondloop 5\n",
      "location 5\n",
      "updatedpositionofmax 5\n",
      "secondloop 6\n",
      "location 6\n",
      "updatedpositionofmax 6\n",
      "firstloop 5\n",
      "positionofMax 0\n",
      "secondloop 1\n",
      "location 1\n",
      "updatedpositionofmax 1\n",
      "secondloop 2\n",
      "location 2\n",
      "secondloop 3\n",
      "location 3\n",
      "updatedpositionofmax 3\n",
      "secondloop 4\n",
      "location 4\n",
      "secondloop 5\n",
      "location 5\n",
      "updatedpositionofmax 5\n",
      "firstloop 4\n",
      "positionofMax 0\n",
      "secondloop 1\n",
      "location 1\n",
      "updatedpositionofmax 1\n",
      "secondloop 2\n",
      "location 2\n",
      "secondloop 3\n",
      "location 3\n",
      "updatedpositionofmax 3\n",
      "secondloop 4\n",
      "location 4\n",
      "firstloop 3\n",
      "positionofMax 0\n",
      "secondloop 1\n",
      "location 1\n",
      "updatedpositionofmax 1\n",
      "secondloop 2\n",
      "location 2\n",
      "secondloop 3\n",
      "location 3\n",
      "updatedpositionofmax 3\n",
      "firstloop 2\n",
      "positionofMax 0\n",
      "secondloop 1\n",
      "location 1\n",
      "updatedpositionofmax 1\n",
      "secondloop 2\n",
      "location 2\n",
      "firstloop 1\n",
      "positionofMax 0\n",
      "secondloop 1\n",
      "location 1\n"
     ]
    },
    {
     "data": {
      "text/plain": [
       "[2, 3, 5, 6, 7, 8, 12, 21, 40]"
      ]
     },
     "execution_count": 40,
     "metadata": {},
     "output_type": "execute_result"
    }
   ],
   "source": [
    "arr=[3,5,2,7,6,8,12,40,21]\n",
    "selection_sort(arr)\n",
    "arr"
   ]
  },
  {
   "cell_type": "code",
   "execution_count": null,
   "metadata": {},
   "outputs": [],
   "source": []
  },
  {
   "cell_type": "code",
   "execution_count": null,
   "metadata": {},
   "outputs": [],
   "source": []
  }
 ],
 "metadata": {
  "kernelspec": {
   "display_name": "Python 3",
   "language": "python",
   "name": "python3"
  },
  "language_info": {
   "codemirror_mode": {
    "name": "ipython",
    "version": 3
   },
   "file_extension": ".py",
   "mimetype": "text/x-python",
   "name": "python",
   "nbconvert_exporter": "python",
   "pygments_lexer": "ipython3",
   "version": "3.5.6"
  }
 },
 "nbformat": 4,
 "nbformat_minor": 2
}
