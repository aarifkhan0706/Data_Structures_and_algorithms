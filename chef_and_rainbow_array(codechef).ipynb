{
 "cells": [
  {
   "cell_type": "code",
   "execution_count": 8,
   "metadata": {},
   "outputs": [
    {
     "name": "stdout",
     "output_type": "stream",
     "text": [
      "1\n",
      "1\n",
      "1 2 3 4 5 6 7 6 4 5 3 2 1\n",
      "no\n"
     ]
    }
   ],
   "source": [
    "t=int(input())\n",
    "for i in range (t):\n",
    "    n= int(input())\n",
    "    a=[int(a)for a in input().strip().split()]\n",
    "    for element in a:\n",
    "        if element>7:\n",
    "            print(\"no\")\n",
    "            break\n",
    "            \n",
    "    else:\n",
    "        if n%2!=0:\n",
    "            mid=n//2\n",
    "            first_part=a[:mid]\n",
    "            second_part=a[mid+1:]\n",
    "            if first_part==second_part[::-1]:\n",
    "                print(\"yes\")\n",
    "            else:\n",
    "                print(\"no\")\n",
    "        else:\n",
    "            mid=(n//2)+1\n",
    "            first_part=a[:mid]\n",
    "            second_part=a[mid+1:]\n",
    "            if first_part==second_part[::-1]:\n",
    "                print(\"yes\")\n",
    "            else:\n",
    "                print(\"no\")\n",
    "        "
   ]
  },
  {
   "cell_type": "code",
   "execution_count": null,
   "metadata": {},
   "outputs": [],
   "source": []
  }
 ],
 "metadata": {
  "kernelspec": {
   "display_name": "Python 3",
   "language": "python",
   "name": "python3"
  },
  "language_info": {
   "codemirror_mode": {
    "name": "ipython",
    "version": 3
   },
   "file_extension": ".py",
   "mimetype": "text/x-python",
   "name": "python",
   "nbconvert_exporter": "python",
   "pygments_lexer": "ipython3",
   "version": "3.5.6"
  }
 },
 "nbformat": 4,
 "nbformat_minor": 2
}
