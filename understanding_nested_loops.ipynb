{
 "cells": [
  {
   "cell_type": "code",
   "execution_count": 87,
   "metadata": {},
   "outputs": [],
   "source": [
    "def a(arr):\n",
    "    for i in range(0,len(arr)):\n",
    "        print(\"first loop\",arr[i])\n",
    "        for j in range(i+1,len(arr)):\n",
    "            print(\"second loop\",arr[j])\n",
    "            if arr[i]>arr[j]:\n",
    "                arr[i],arr[j]=arr[j],arr[i]\n",
    "                print(\"array right now\",arr)\n",
    "    return arr"
   ]
  },
  {
   "cell_type": "code",
   "execution_count": 88,
   "metadata": {},
   "outputs": [
    {
     "name": "stdout",
     "output_type": "stream",
     "text": [
      "first loop 3\n",
      "second loop 2\n",
      "array right now [2, 3, 1, 8, 4, 6, 9, 5]\n",
      "second loop 1\n",
      "array right now [1, 3, 2, 8, 4, 6, 9, 5]\n",
      "second loop 8\n",
      "second loop 4\n",
      "second loop 6\n",
      "second loop 9\n",
      "second loop 5\n",
      "first loop 3\n",
      "second loop 2\n",
      "array right now [1, 2, 3, 8, 4, 6, 9, 5]\n",
      "second loop 8\n",
      "second loop 4\n",
      "second loop 6\n",
      "second loop 9\n",
      "second loop 5\n",
      "first loop 3\n",
      "second loop 8\n",
      "second loop 4\n",
      "second loop 6\n",
      "second loop 9\n",
      "second loop 5\n",
      "first loop 8\n",
      "second loop 4\n",
      "array right now [1, 2, 3, 4, 8, 6, 9, 5]\n",
      "second loop 6\n",
      "second loop 9\n",
      "second loop 5\n",
      "first loop 8\n",
      "second loop 6\n",
      "array right now [1, 2, 3, 4, 6, 8, 9, 5]\n",
      "second loop 9\n",
      "second loop 5\n",
      "array right now [1, 2, 3, 4, 5, 8, 9, 6]\n",
      "first loop 8\n",
      "second loop 9\n",
      "second loop 6\n",
      "array right now [1, 2, 3, 4, 5, 6, 9, 8]\n",
      "first loop 9\n",
      "second loop 8\n",
      "array right now [1, 2, 3, 4, 5, 6, 8, 9]\n",
      "first loop 9\n"
     ]
    },
    {
     "data": {
      "text/plain": [
       "[1, 2, 3, 4, 5, 6, 8, 9]"
      ]
     },
     "execution_count": 88,
     "metadata": {},
     "output_type": "execute_result"
    }
   ],
   "source": [
    "arr=[3,2,1,8,4,6,9,5]\n",
    "a(arr)"
   ]
  },
  {
   "cell_type": "code",
   "execution_count": 89,
   "metadata": {},
   "outputs": [],
   "source": [
    "#function to check whether sub arrays amount to given value k\n",
    "def looping_technique1(arr1,k):\n",
    "    for i in range(0,len(arr1)):\n",
    "        #print(\"i=\",arr[i])\n",
    "        for j in range(i,len(arr1)):\n",
    "            #print(\"j=\",arr[j])\n",
    "            if arr[i]+arr[j]==k:\n",
    "                print(min(arr[i],arr[j]),max(arr[i],arr[j]))"
   ]
  },
  {
   "cell_type": "code",
   "execution_count": 90,
   "metadata": {},
   "outputs": [
    {
     "name": "stdout",
     "output_type": "stream",
     "text": [
      "1 4\n",
      "2 3\n"
     ]
    }
   ],
   "source": [
    "arr1=[4,3,2,1,4,5]\n",
    "k=5\n",
    "looping_technique1(arr1,k)"
   ]
  },
  {
   "cell_type": "code",
   "execution_count": 91,
   "metadata": {},
   "outputs": [],
   "source": [
    "opening = set('([{')"
   ]
  },
  {
   "cell_type": "code",
   "execution_count": 92,
   "metadata": {},
   "outputs": [
    {
     "data": {
      "text/plain": [
       "{'(', '[', '{'}"
      ]
     },
     "execution_count": 92,
     "metadata": {},
     "output_type": "execute_result"
    }
   ],
   "source": [
    "opening"
   ]
  },
  {
   "cell_type": "markdown",
   "metadata": {},
   "source": [
    "# Parenthesis ques:"
   ]
  },
  {
   "cell_type": "code",
   "execution_count": 96,
   "metadata": {},
   "outputs": [],
   "source": [
    "def balance_check(s):\n",
    "    \n",
    "    # Check is even number of brackets\n",
    "    if len(s)%2 != 0:\n",
    "        return False\n",
    "    \n",
    "    # Set of opening brackets\n",
    "    opening = set('([{') \n",
    "    \n",
    "    # Matching Pairs\n",
    "    matches = set([ ('(',')'), ('[',']'), ('{','}') ]) \n",
    "    \n",
    "    # Use a list as a \"Stack\"\n",
    "    stack = []\n",
    "    \n",
    "    # Check every parenthesis in string\n",
    "    for paren in s:\n",
    "        print(\"paren\",paren)\n",
    "        \n",
    "        # If its an opening, append it to list\n",
    "        if paren in opening:\n",
    "            stack.append(paren)\n",
    "            print(\"stack now\",stack)\n",
    "        \n",
    "        else:\n",
    "            \n",
    "            # Check that there are parentheses in Stack\n",
    "            if len(stack) == 0:\n",
    "                return False\n",
    "            \n",
    "            # Check the last open parenthesis\n",
    "            last_open = stack.pop()\n",
    "            \n",
    "            # Check if it has a closing match\n",
    "            if (last_open,paren) not in matches:\n",
    "                return False\n",
    "            \n",
    "    return len(stack) == 0"
   ]
  },
  {
   "cell_type": "code",
   "execution_count": 99,
   "metadata": {},
   "outputs": [
    {
     "name": "stdout",
     "output_type": "stream",
     "text": [
      "paren [\n",
      "stack now ['[']\n",
      "paren ]\n",
      "paren (\n",
      "stack now ['(']\n",
      "paren )\n",
      "paren {\n",
      "stack now ['{']\n",
      "paren (\n",
      "stack now ['{', '(']\n",
      "paren [\n",
      "stack now ['{', '(', '[']\n",
      "paren [\n",
      "stack now ['{', '(', '[', '[']\n",
      "paren [\n",
      "stack now ['{', '(', '[', '[', '[']\n",
      "paren ]\n",
      "paren ]\n",
      "paren ]\n",
      "paren )\n",
      "paren }\n"
     ]
    },
    {
     "data": {
      "text/plain": [
       "True"
      ]
     },
     "execution_count": 99,
     "metadata": {},
     "output_type": "execute_result"
    }
   ],
   "source": [
    "balance_check(\"[](){([[[]]])}\")"
   ]
  },
  {
   "cell_type": "code",
   "execution_count": 98,
   "metadata": {},
   "outputs": [
    {
     "name": "stdout",
     "output_type": "stream",
     "text": [
      "paren [\n",
      "stack now ['[']\n",
      "paren ]\n"
     ]
    },
    {
     "data": {
      "text/plain": [
       "True"
      ]
     },
     "execution_count": 98,
     "metadata": {},
     "output_type": "execute_result"
    }
   ],
   "source": [
    "balance_check('[]')"
   ]
  },
  {
   "cell_type": "code",
   "execution_count": 111,
   "metadata": {},
   "outputs": [],
   "source": [
    "\"\"\"trying myself attempt1\"\"\"\"\"\n",
    "def parenth(strs):\n",
    "    if len(strs)%2!=0:\n",
    "        return False\n",
    "    opening=set('[{(')\n",
    "    matches=set([('[',']'),('(',')'),('{','}')])\n",
    "    stack=[]\n",
    "    for paren in strs:\n",
    "        if paren in opening:\n",
    "            stack.append(paren)\n",
    "        else:\n",
    "            if len(stack)==0:\n",
    "                return False\n",
    "            else:\n",
    "                lastopen=stack.pop()\n",
    "                if (lastopen,paren) not in matches:\n",
    "                    return False\n",
    "    return len(stack) == 0 "
   ]
  },
  {
   "cell_type": "code",
   "execution_count": 112,
   "metadata": {},
   "outputs": [
    {
     "data": {
      "text/plain": [
       "{('(', ')'), ('[', ']'), ('{', '}')}"
      ]
     },
     "execution_count": 112,
     "metadata": {},
     "output_type": "execute_result"
    }
   ],
   "source": [
    "matches = set( [('(',')'), ('[',']'), ('{','}')] )\n",
    "matches"
   ]
  },
  {
   "cell_type": "code",
   "execution_count": 113,
   "metadata": {},
   "outputs": [
    {
     "data": {
      "text/plain": [
       "{'(', '[', '{'}"
      ]
     },
     "execution_count": 113,
     "metadata": {},
     "output_type": "execute_result"
    }
   ],
   "source": [
    "opening = set([('('),('['),('{')])\n",
    "opening\n"
   ]
  },
  {
   "cell_type": "code",
   "execution_count": 115,
   "metadata": {},
   "outputs": [
    {
     "data": {
      "text/plain": [
       "False"
      ]
     },
     "execution_count": 115,
     "metadata": {},
     "output_type": "execute_result"
    }
   ],
   "source": [
    "parenth('{(}')"
   ]
  },
  {
   "cell_type": "code",
   "execution_count": null,
   "metadata": {},
   "outputs": [],
   "source": []
  }
 ],
 "metadata": {
  "kernelspec": {
   "display_name": "Python 3",
   "language": "python",
   "name": "python3"
  },
  "language_info": {
   "codemirror_mode": {
    "name": "ipython",
    "version": 3
   },
   "file_extension": ".py",
   "mimetype": "text/x-python",
   "name": "python",
   "nbconvert_exporter": "python",
   "pygments_lexer": "ipython3",
   "version": "3.5.6"
  }
 },
 "nbformat": 4,
 "nbformat_minor": 2
}
